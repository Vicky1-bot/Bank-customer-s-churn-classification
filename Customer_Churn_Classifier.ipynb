{
  "nbformat": 4,
  "nbformat_minor": 0,
  "metadata": {
    "colab": {
      "name": "Customer Churn Classifier.ipynb",
      "provenance": [],
      "collapsed_sections": []
    },
    "kernelspec": {
      "name": "python3",
      "display_name": "Python 3"
    },
    "accelerator": "GPU"
  },
  "cells": [
    {
      "cell_type": "markdown",
      "metadata": {
        "id": "4P1KDT-PKsOy"
      },
      "source": [
        "# **Bank Customer's Churn Classification**\n",
        "*Classifying bank customers based on their previous bank activities, that they will exit/leave the bank or not.*\n",
        "\n",
        "*Dataset: https://www.kaggle.com/shrutimechlearn/churn-modelling*"
      ]
    },
    {
      "cell_type": "code",
      "metadata": {
        "id": "cuGnhcOCHc8l",
        "colab": {
          "base_uri": "https://localhost:8080/",
          "height": 34
        },
        "outputId": "e223bf05-96c2-43ed-dcaa-8df25de2a83c"
      },
      "source": [
        "# Connecting Google Drive with Google Colab\n",
        "from google.colab import drive\n",
        "drive.mount('/content/drive/')"
      ],
      "execution_count": null,
      "outputs": [
        {
          "output_type": "stream",
          "text": [
            "Drive already mounted at /content/drive/; to attempt to forcibly remount, call drive.mount(\"/content/drive/\", force_remount=True).\n"
          ],
          "name": "stdout"
        }
      ]
    },
    {
      "cell_type": "code",
      "metadata": {
        "id": "MPoJdCbeKX7f"
      },
      "source": [
        "# Importing essential libraries\n",
        "import numpy as np\n",
        "import pandas as pd"
      ],
      "execution_count": null,
      "outputs": []
    },
    {
      "cell_type": "code",
      "metadata": {
        "id": "UJJ6T8LoLHQK"
      },
      "source": [
        "# Loading the dataset\n",
        "df = pd.read_csv('sample_data/Churn_Modelling.csv')"
      ],
      "execution_count": null,
      "outputs": []
    },
    {
      "cell_type": "code",
      "source": [
        "df"
      ],
      "metadata": {
        "colab": {
          "base_uri": "https://localhost:8080/",
          "height": 487
        },
        "id": "wPlGyYdfLCmS",
        "outputId": "7c637f3e-dd51-49dd-9eaf-86d3425a2881"
      },
      "execution_count": null,
      "outputs": [
        {
          "output_type": "execute_result",
          "data": {
            "text/html": [
              "\n",
              "  <div id=\"df-8e06849e-4369-4975-9373-500bf70a2711\">\n",
              "    <div class=\"colab-df-container\">\n",
              "      <div>\n",
              "<style scoped>\n",
              "    .dataframe tbody tr th:only-of-type {\n",
              "        vertical-align: middle;\n",
              "    }\n",
              "\n",
              "    .dataframe tbody tr th {\n",
              "        vertical-align: top;\n",
              "    }\n",
              "\n",
              "    .dataframe thead th {\n",
              "        text-align: right;\n",
              "    }\n",
              "</style>\n",
              "<table border=\"1\" class=\"dataframe\">\n",
              "  <thead>\n",
              "    <tr style=\"text-align: right;\">\n",
              "      <th></th>\n",
              "      <th>RowNumber</th>\n",
              "      <th>CustomerId</th>\n",
              "      <th>Surname</th>\n",
              "      <th>CreditScore</th>\n",
              "      <th>Geography</th>\n",
              "      <th>Gender</th>\n",
              "      <th>Age</th>\n",
              "      <th>Tenure</th>\n",
              "      <th>Balance</th>\n",
              "      <th>NumOfProducts</th>\n",
              "      <th>HasCrCard</th>\n",
              "      <th>IsActiveMember</th>\n",
              "      <th>EstimatedSalary</th>\n",
              "      <th>Exited</th>\n",
              "    </tr>\n",
              "  </thead>\n",
              "  <tbody>\n",
              "    <tr>\n",
              "      <th>0</th>\n",
              "      <td>1</td>\n",
              "      <td>15634602</td>\n",
              "      <td>Hargrave</td>\n",
              "      <td>619</td>\n",
              "      <td>France</td>\n",
              "      <td>Female</td>\n",
              "      <td>42</td>\n",
              "      <td>2</td>\n",
              "      <td>0.00</td>\n",
              "      <td>1</td>\n",
              "      <td>1</td>\n",
              "      <td>1</td>\n",
              "      <td>101348.88</td>\n",
              "      <td>1</td>\n",
              "    </tr>\n",
              "    <tr>\n",
              "      <th>1</th>\n",
              "      <td>2</td>\n",
              "      <td>15647311</td>\n",
              "      <td>Hill</td>\n",
              "      <td>608</td>\n",
              "      <td>Spain</td>\n",
              "      <td>Female</td>\n",
              "      <td>41</td>\n",
              "      <td>1</td>\n",
              "      <td>83807.86</td>\n",
              "      <td>1</td>\n",
              "      <td>0</td>\n",
              "      <td>1</td>\n",
              "      <td>112542.58</td>\n",
              "      <td>0</td>\n",
              "    </tr>\n",
              "    <tr>\n",
              "      <th>2</th>\n",
              "      <td>3</td>\n",
              "      <td>15619304</td>\n",
              "      <td>Onio</td>\n",
              "      <td>502</td>\n",
              "      <td>France</td>\n",
              "      <td>Female</td>\n",
              "      <td>42</td>\n",
              "      <td>8</td>\n",
              "      <td>159660.80</td>\n",
              "      <td>3</td>\n",
              "      <td>1</td>\n",
              "      <td>0</td>\n",
              "      <td>113931.57</td>\n",
              "      <td>1</td>\n",
              "    </tr>\n",
              "    <tr>\n",
              "      <th>3</th>\n",
              "      <td>4</td>\n",
              "      <td>15701354</td>\n",
              "      <td>Boni</td>\n",
              "      <td>699</td>\n",
              "      <td>France</td>\n",
              "      <td>Female</td>\n",
              "      <td>39</td>\n",
              "      <td>1</td>\n",
              "      <td>0.00</td>\n",
              "      <td>2</td>\n",
              "      <td>0</td>\n",
              "      <td>0</td>\n",
              "      <td>93826.63</td>\n",
              "      <td>0</td>\n",
              "    </tr>\n",
              "    <tr>\n",
              "      <th>4</th>\n",
              "      <td>5</td>\n",
              "      <td>15737888</td>\n",
              "      <td>Mitchell</td>\n",
              "      <td>850</td>\n",
              "      <td>Spain</td>\n",
              "      <td>Female</td>\n",
              "      <td>43</td>\n",
              "      <td>2</td>\n",
              "      <td>125510.82</td>\n",
              "      <td>1</td>\n",
              "      <td>1</td>\n",
              "      <td>1</td>\n",
              "      <td>79084.10</td>\n",
              "      <td>0</td>\n",
              "    </tr>\n",
              "    <tr>\n",
              "      <th>...</th>\n",
              "      <td>...</td>\n",
              "      <td>...</td>\n",
              "      <td>...</td>\n",
              "      <td>...</td>\n",
              "      <td>...</td>\n",
              "      <td>...</td>\n",
              "      <td>...</td>\n",
              "      <td>...</td>\n",
              "      <td>...</td>\n",
              "      <td>...</td>\n",
              "      <td>...</td>\n",
              "      <td>...</td>\n",
              "      <td>...</td>\n",
              "      <td>...</td>\n",
              "    </tr>\n",
              "    <tr>\n",
              "      <th>9995</th>\n",
              "      <td>9996</td>\n",
              "      <td>15606229</td>\n",
              "      <td>Obijiaku</td>\n",
              "      <td>771</td>\n",
              "      <td>France</td>\n",
              "      <td>Male</td>\n",
              "      <td>39</td>\n",
              "      <td>5</td>\n",
              "      <td>0.00</td>\n",
              "      <td>2</td>\n",
              "      <td>1</td>\n",
              "      <td>0</td>\n",
              "      <td>96270.64</td>\n",
              "      <td>0</td>\n",
              "    </tr>\n",
              "    <tr>\n",
              "      <th>9996</th>\n",
              "      <td>9997</td>\n",
              "      <td>15569892</td>\n",
              "      <td>Johnstone</td>\n",
              "      <td>516</td>\n",
              "      <td>France</td>\n",
              "      <td>Male</td>\n",
              "      <td>35</td>\n",
              "      <td>10</td>\n",
              "      <td>57369.61</td>\n",
              "      <td>1</td>\n",
              "      <td>1</td>\n",
              "      <td>1</td>\n",
              "      <td>101699.77</td>\n",
              "      <td>0</td>\n",
              "    </tr>\n",
              "    <tr>\n",
              "      <th>9997</th>\n",
              "      <td>9998</td>\n",
              "      <td>15584532</td>\n",
              "      <td>Liu</td>\n",
              "      <td>709</td>\n",
              "      <td>France</td>\n",
              "      <td>Female</td>\n",
              "      <td>36</td>\n",
              "      <td>7</td>\n",
              "      <td>0.00</td>\n",
              "      <td>1</td>\n",
              "      <td>0</td>\n",
              "      <td>1</td>\n",
              "      <td>42085.58</td>\n",
              "      <td>1</td>\n",
              "    </tr>\n",
              "    <tr>\n",
              "      <th>9998</th>\n",
              "      <td>9999</td>\n",
              "      <td>15682355</td>\n",
              "      <td>Sabbatini</td>\n",
              "      <td>772</td>\n",
              "      <td>Germany</td>\n",
              "      <td>Male</td>\n",
              "      <td>42</td>\n",
              "      <td>3</td>\n",
              "      <td>75075.31</td>\n",
              "      <td>2</td>\n",
              "      <td>1</td>\n",
              "      <td>0</td>\n",
              "      <td>92888.52</td>\n",
              "      <td>1</td>\n",
              "    </tr>\n",
              "    <tr>\n",
              "      <th>9999</th>\n",
              "      <td>10000</td>\n",
              "      <td>15628319</td>\n",
              "      <td>Walker</td>\n",
              "      <td>792</td>\n",
              "      <td>France</td>\n",
              "      <td>Female</td>\n",
              "      <td>28</td>\n",
              "      <td>4</td>\n",
              "      <td>130142.79</td>\n",
              "      <td>1</td>\n",
              "      <td>1</td>\n",
              "      <td>0</td>\n",
              "      <td>38190.78</td>\n",
              "      <td>0</td>\n",
              "    </tr>\n",
              "  </tbody>\n",
              "</table>\n",
              "<p>10000 rows × 14 columns</p>\n",
              "</div>\n",
              "      <button class=\"colab-df-convert\" onclick=\"convertToInteractive('df-8e06849e-4369-4975-9373-500bf70a2711')\"\n",
              "              title=\"Convert this dataframe to an interactive table.\"\n",
              "              style=\"display:none;\">\n",
              "        \n",
              "  <svg xmlns=\"http://www.w3.org/2000/svg\" height=\"24px\"viewBox=\"0 0 24 24\"\n",
              "       width=\"24px\">\n",
              "    <path d=\"M0 0h24v24H0V0z\" fill=\"none\"/>\n",
              "    <path d=\"M18.56 5.44l.94 2.06.94-2.06 2.06-.94-2.06-.94-.94-2.06-.94 2.06-2.06.94zm-11 1L8.5 8.5l.94-2.06 2.06-.94-2.06-.94L8.5 2.5l-.94 2.06-2.06.94zm10 10l.94 2.06.94-2.06 2.06-.94-2.06-.94-.94-2.06-.94 2.06-2.06.94z\"/><path d=\"M17.41 7.96l-1.37-1.37c-.4-.4-.92-.59-1.43-.59-.52 0-1.04.2-1.43.59L10.3 9.45l-7.72 7.72c-.78.78-.78 2.05 0 2.83L4 21.41c.39.39.9.59 1.41.59.51 0 1.02-.2 1.41-.59l7.78-7.78 2.81-2.81c.8-.78.8-2.07 0-2.86zM5.41 20L4 18.59l7.72-7.72 1.47 1.35L5.41 20z\"/>\n",
              "  </svg>\n",
              "      </button>\n",
              "      \n",
              "  <style>\n",
              "    .colab-df-container {\n",
              "      display:flex;\n",
              "      flex-wrap:wrap;\n",
              "      gap: 12px;\n",
              "    }\n",
              "\n",
              "    .colab-df-convert {\n",
              "      background-color: #E8F0FE;\n",
              "      border: none;\n",
              "      border-radius: 50%;\n",
              "      cursor: pointer;\n",
              "      display: none;\n",
              "      fill: #1967D2;\n",
              "      height: 32px;\n",
              "      padding: 0 0 0 0;\n",
              "      width: 32px;\n",
              "    }\n",
              "\n",
              "    .colab-df-convert:hover {\n",
              "      background-color: #E2EBFA;\n",
              "      box-shadow: 0px 1px 2px rgba(60, 64, 67, 0.3), 0px 1px 3px 1px rgba(60, 64, 67, 0.15);\n",
              "      fill: #174EA6;\n",
              "    }\n",
              "\n",
              "    [theme=dark] .colab-df-convert {\n",
              "      background-color: #3B4455;\n",
              "      fill: #D2E3FC;\n",
              "    }\n",
              "\n",
              "    [theme=dark] .colab-df-convert:hover {\n",
              "      background-color: #434B5C;\n",
              "      box-shadow: 0px 1px 3px 1px rgba(0, 0, 0, 0.15);\n",
              "      filter: drop-shadow(0px 1px 2px rgba(0, 0, 0, 0.3));\n",
              "      fill: #FFFFFF;\n",
              "    }\n",
              "  </style>\n",
              "\n",
              "      <script>\n",
              "        const buttonEl =\n",
              "          document.querySelector('#df-8e06849e-4369-4975-9373-500bf70a2711 button.colab-df-convert');\n",
              "        buttonEl.style.display =\n",
              "          google.colab.kernel.accessAllowed ? 'block' : 'none';\n",
              "\n",
              "        async function convertToInteractive(key) {\n",
              "          const element = document.querySelector('#df-8e06849e-4369-4975-9373-500bf70a2711');\n",
              "          const dataTable =\n",
              "            await google.colab.kernel.invokeFunction('convertToInteractive',\n",
              "                                                     [key], {});\n",
              "          if (!dataTable) return;\n",
              "\n",
              "          const docLinkHtml = 'Like what you see? Visit the ' +\n",
              "            '<a target=\"_blank\" href=https://colab.research.google.com/notebooks/data_table.ipynb>data table notebook</a>'\n",
              "            + ' to learn more about interactive tables.';\n",
              "          element.innerHTML = '';\n",
              "          dataTable['output_type'] = 'display_data';\n",
              "          await google.colab.output.renderOutput(dataTable, element);\n",
              "          const docLink = document.createElement('div');\n",
              "          docLink.innerHTML = docLinkHtml;\n",
              "          element.appendChild(docLink);\n",
              "        }\n",
              "      </script>\n",
              "    </div>\n",
              "  </div>\n",
              "  "
            ],
            "text/plain": [
              "      RowNumber  CustomerId    Surname  ...  IsActiveMember EstimatedSalary Exited\n",
              "0             1    15634602   Hargrave  ...               1       101348.88      1\n",
              "1             2    15647311       Hill  ...               1       112542.58      0\n",
              "2             3    15619304       Onio  ...               0       113931.57      1\n",
              "3             4    15701354       Boni  ...               0        93826.63      0\n",
              "4             5    15737888   Mitchell  ...               1        79084.10      0\n",
              "...         ...         ...        ...  ...             ...             ...    ...\n",
              "9995       9996    15606229   Obijiaku  ...               0        96270.64      0\n",
              "9996       9997    15569892  Johnstone  ...               1       101699.77      0\n",
              "9997       9998    15584532        Liu  ...               1        42085.58      1\n",
              "9998       9999    15682355  Sabbatini  ...               0        92888.52      1\n",
              "9999      10000    15628319     Walker  ...               0        38190.78      0\n",
              "\n",
              "[10000 rows x 14 columns]"
            ]
          },
          "metadata": {},
          "execution_count": 4
        }
      ]
    },
    {
      "cell_type": "markdown",
      "metadata": {
        "id": "u7mU2LUTLUj5"
      },
      "source": [
        "# **Exploring the dataset**"
      ]
    },
    {
      "cell_type": "code",
      "metadata": {
        "id": "jywL9F9_LTjh",
        "colab": {
          "base_uri": "https://localhost:8080/"
        },
        "outputId": "fb0d99a5-ee7d-488d-c3a7-501ebc1ff554"
      },
      "source": [
        "df.shape"
      ],
      "execution_count": null,
      "outputs": [
        {
          "output_type": "execute_result",
          "data": {
            "text/plain": [
              "(10000, 14)"
            ]
          },
          "metadata": {},
          "execution_count": 5
        }
      ]
    },
    {
      "cell_type": "code",
      "metadata": {
        "id": "YN7vU6m-LZoI",
        "colab": {
          "base_uri": "https://localhost:8080/"
        },
        "outputId": "4e40f014-5c48-45eb-f256-4bb03b17a9ce"
      },
      "source": [
        "df.columns"
      ],
      "execution_count": null,
      "outputs": [
        {
          "output_type": "execute_result",
          "data": {
            "text/plain": [
              "Index(['RowNumber', 'CustomerId', 'Surname', 'CreditScore', 'Geography',\n",
              "       'Gender', 'Age', 'Tenure', 'Balance', 'NumOfProducts', 'HasCrCard',\n",
              "       'IsActiveMember', 'EstimatedSalary', 'Exited'],\n",
              "      dtype='object')"
            ]
          },
          "metadata": {},
          "execution_count": 6
        }
      ]
    },
    {
      "cell_type": "code",
      "metadata": {
        "id": "b_I7URDSLbBJ",
        "colab": {
          "base_uri": "https://localhost:8080/"
        },
        "outputId": "bf699707-366d-4aca-f6d2-da434eea2b9b"
      },
      "source": [
        "df.dtypes"
      ],
      "execution_count": null,
      "outputs": [
        {
          "output_type": "execute_result",
          "data": {
            "text/plain": [
              "RowNumber            int64\n",
              "CustomerId           int64\n",
              "Surname             object\n",
              "CreditScore          int64\n",
              "Geography           object\n",
              "Gender              object\n",
              "Age                  int64\n",
              "Tenure               int64\n",
              "Balance            float64\n",
              "NumOfProducts        int64\n",
              "HasCrCard            int64\n",
              "IsActiveMember       int64\n",
              "EstimatedSalary    float64\n",
              "Exited               int64\n",
              "dtype: object"
            ]
          },
          "metadata": {},
          "execution_count": 7
        }
      ]
    },
    {
      "cell_type": "code",
      "metadata": {
        "id": "TwYKW4CVLgtJ",
        "colab": {
          "base_uri": "https://localhost:8080/",
          "height": 270
        },
        "outputId": "1c082c33-8b2f-42aa-e856-a5ad605d99be"
      },
      "source": [
        "df.head()"
      ],
      "execution_count": null,
      "outputs": [
        {
          "output_type": "execute_result",
          "data": {
            "text/html": [
              "\n",
              "  <div id=\"df-8f401682-21aa-4516-9178-59c449a2a7ab\">\n",
              "    <div class=\"colab-df-container\">\n",
              "      <div>\n",
              "<style scoped>\n",
              "    .dataframe tbody tr th:only-of-type {\n",
              "        vertical-align: middle;\n",
              "    }\n",
              "\n",
              "    .dataframe tbody tr th {\n",
              "        vertical-align: top;\n",
              "    }\n",
              "\n",
              "    .dataframe thead th {\n",
              "        text-align: right;\n",
              "    }\n",
              "</style>\n",
              "<table border=\"1\" class=\"dataframe\">\n",
              "  <thead>\n",
              "    <tr style=\"text-align: right;\">\n",
              "      <th></th>\n",
              "      <th>RowNumber</th>\n",
              "      <th>CustomerId</th>\n",
              "      <th>Surname</th>\n",
              "      <th>CreditScore</th>\n",
              "      <th>Geography</th>\n",
              "      <th>Gender</th>\n",
              "      <th>Age</th>\n",
              "      <th>Tenure</th>\n",
              "      <th>Balance</th>\n",
              "      <th>NumOfProducts</th>\n",
              "      <th>HasCrCard</th>\n",
              "      <th>IsActiveMember</th>\n",
              "      <th>EstimatedSalary</th>\n",
              "      <th>Exited</th>\n",
              "    </tr>\n",
              "  </thead>\n",
              "  <tbody>\n",
              "    <tr>\n",
              "      <th>0</th>\n",
              "      <td>1</td>\n",
              "      <td>15634602</td>\n",
              "      <td>Hargrave</td>\n",
              "      <td>619</td>\n",
              "      <td>France</td>\n",
              "      <td>Female</td>\n",
              "      <td>42</td>\n",
              "      <td>2</td>\n",
              "      <td>0.00</td>\n",
              "      <td>1</td>\n",
              "      <td>1</td>\n",
              "      <td>1</td>\n",
              "      <td>101348.88</td>\n",
              "      <td>1</td>\n",
              "    </tr>\n",
              "    <tr>\n",
              "      <th>1</th>\n",
              "      <td>2</td>\n",
              "      <td>15647311</td>\n",
              "      <td>Hill</td>\n",
              "      <td>608</td>\n",
              "      <td>Spain</td>\n",
              "      <td>Female</td>\n",
              "      <td>41</td>\n",
              "      <td>1</td>\n",
              "      <td>83807.86</td>\n",
              "      <td>1</td>\n",
              "      <td>0</td>\n",
              "      <td>1</td>\n",
              "      <td>112542.58</td>\n",
              "      <td>0</td>\n",
              "    </tr>\n",
              "    <tr>\n",
              "      <th>2</th>\n",
              "      <td>3</td>\n",
              "      <td>15619304</td>\n",
              "      <td>Onio</td>\n",
              "      <td>502</td>\n",
              "      <td>France</td>\n",
              "      <td>Female</td>\n",
              "      <td>42</td>\n",
              "      <td>8</td>\n",
              "      <td>159660.80</td>\n",
              "      <td>3</td>\n",
              "      <td>1</td>\n",
              "      <td>0</td>\n",
              "      <td>113931.57</td>\n",
              "      <td>1</td>\n",
              "    </tr>\n",
              "    <tr>\n",
              "      <th>3</th>\n",
              "      <td>4</td>\n",
              "      <td>15701354</td>\n",
              "      <td>Boni</td>\n",
              "      <td>699</td>\n",
              "      <td>France</td>\n",
              "      <td>Female</td>\n",
              "      <td>39</td>\n",
              "      <td>1</td>\n",
              "      <td>0.00</td>\n",
              "      <td>2</td>\n",
              "      <td>0</td>\n",
              "      <td>0</td>\n",
              "      <td>93826.63</td>\n",
              "      <td>0</td>\n",
              "    </tr>\n",
              "    <tr>\n",
              "      <th>4</th>\n",
              "      <td>5</td>\n",
              "      <td>15737888</td>\n",
              "      <td>Mitchell</td>\n",
              "      <td>850</td>\n",
              "      <td>Spain</td>\n",
              "      <td>Female</td>\n",
              "      <td>43</td>\n",
              "      <td>2</td>\n",
              "      <td>125510.82</td>\n",
              "      <td>1</td>\n",
              "      <td>1</td>\n",
              "      <td>1</td>\n",
              "      <td>79084.10</td>\n",
              "      <td>0</td>\n",
              "    </tr>\n",
              "  </tbody>\n",
              "</table>\n",
              "</div>\n",
              "      <button class=\"colab-df-convert\" onclick=\"convertToInteractive('df-8f401682-21aa-4516-9178-59c449a2a7ab')\"\n",
              "              title=\"Convert this dataframe to an interactive table.\"\n",
              "              style=\"display:none;\">\n",
              "        \n",
              "  <svg xmlns=\"http://www.w3.org/2000/svg\" height=\"24px\"viewBox=\"0 0 24 24\"\n",
              "       width=\"24px\">\n",
              "    <path d=\"M0 0h24v24H0V0z\" fill=\"none\"/>\n",
              "    <path d=\"M18.56 5.44l.94 2.06.94-2.06 2.06-.94-2.06-.94-.94-2.06-.94 2.06-2.06.94zm-11 1L8.5 8.5l.94-2.06 2.06-.94-2.06-.94L8.5 2.5l-.94 2.06-2.06.94zm10 10l.94 2.06.94-2.06 2.06-.94-2.06-.94-.94-2.06-.94 2.06-2.06.94z\"/><path d=\"M17.41 7.96l-1.37-1.37c-.4-.4-.92-.59-1.43-.59-.52 0-1.04.2-1.43.59L10.3 9.45l-7.72 7.72c-.78.78-.78 2.05 0 2.83L4 21.41c.39.39.9.59 1.41.59.51 0 1.02-.2 1.41-.59l7.78-7.78 2.81-2.81c.8-.78.8-2.07 0-2.86zM5.41 20L4 18.59l7.72-7.72 1.47 1.35L5.41 20z\"/>\n",
              "  </svg>\n",
              "      </button>\n",
              "      \n",
              "  <style>\n",
              "    .colab-df-container {\n",
              "      display:flex;\n",
              "      flex-wrap:wrap;\n",
              "      gap: 12px;\n",
              "    }\n",
              "\n",
              "    .colab-df-convert {\n",
              "      background-color: #E8F0FE;\n",
              "      border: none;\n",
              "      border-radius: 50%;\n",
              "      cursor: pointer;\n",
              "      display: none;\n",
              "      fill: #1967D2;\n",
              "      height: 32px;\n",
              "      padding: 0 0 0 0;\n",
              "      width: 32px;\n",
              "    }\n",
              "\n",
              "    .colab-df-convert:hover {\n",
              "      background-color: #E2EBFA;\n",
              "      box-shadow: 0px 1px 2px rgba(60, 64, 67, 0.3), 0px 1px 3px 1px rgba(60, 64, 67, 0.15);\n",
              "      fill: #174EA6;\n",
              "    }\n",
              "\n",
              "    [theme=dark] .colab-df-convert {\n",
              "      background-color: #3B4455;\n",
              "      fill: #D2E3FC;\n",
              "    }\n",
              "\n",
              "    [theme=dark] .colab-df-convert:hover {\n",
              "      background-color: #434B5C;\n",
              "      box-shadow: 0px 1px 3px 1px rgba(0, 0, 0, 0.15);\n",
              "      filter: drop-shadow(0px 1px 2px rgba(0, 0, 0, 0.3));\n",
              "      fill: #FFFFFF;\n",
              "    }\n",
              "  </style>\n",
              "\n",
              "      <script>\n",
              "        const buttonEl =\n",
              "          document.querySelector('#df-8f401682-21aa-4516-9178-59c449a2a7ab button.colab-df-convert');\n",
              "        buttonEl.style.display =\n",
              "          google.colab.kernel.accessAllowed ? 'block' : 'none';\n",
              "\n",
              "        async function convertToInteractive(key) {\n",
              "          const element = document.querySelector('#df-8f401682-21aa-4516-9178-59c449a2a7ab');\n",
              "          const dataTable =\n",
              "            await google.colab.kernel.invokeFunction('convertToInteractive',\n",
              "                                                     [key], {});\n",
              "          if (!dataTable) return;\n",
              "\n",
              "          const docLinkHtml = 'Like what you see? Visit the ' +\n",
              "            '<a target=\"_blank\" href=https://colab.research.google.com/notebooks/data_table.ipynb>data table notebook</a>'\n",
              "            + ' to learn more about interactive tables.';\n",
              "          element.innerHTML = '';\n",
              "          dataTable['output_type'] = 'display_data';\n",
              "          await google.colab.output.renderOutput(dataTable, element);\n",
              "          const docLink = document.createElement('div');\n",
              "          docLink.innerHTML = docLinkHtml;\n",
              "          element.appendChild(docLink);\n",
              "        }\n",
              "      </script>\n",
              "    </div>\n",
              "  </div>\n",
              "  "
            ],
            "text/plain": [
              "   RowNumber  CustomerId   Surname  ...  IsActiveMember EstimatedSalary Exited\n",
              "0          1    15634602  Hargrave  ...               1       101348.88      1\n",
              "1          2    15647311      Hill  ...               1       112542.58      0\n",
              "2          3    15619304      Onio  ...               0       113931.57      1\n",
              "3          4    15701354      Boni  ...               0        93826.63      0\n",
              "4          5    15737888  Mitchell  ...               1        79084.10      0\n",
              "\n",
              "[5 rows x 14 columns]"
            ]
          },
          "metadata": {},
          "execution_count": 8
        }
      ]
    },
    {
      "cell_type": "code",
      "metadata": {
        "id": "QPYQ66BTMjDj",
        "colab": {
          "base_uri": "https://localhost:8080/",
          "height": 270
        },
        "outputId": "005ae7a7-3d17-4e2c-e9f0-869b49c095b5"
      },
      "source": [
        "df.tail()"
      ],
      "execution_count": null,
      "outputs": [
        {
          "output_type": "execute_result",
          "data": {
            "text/html": [
              "\n",
              "  <div id=\"df-5c8d7df0-af9b-4e81-ba9a-0a287d22cf2f\">\n",
              "    <div class=\"colab-df-container\">\n",
              "      <div>\n",
              "<style scoped>\n",
              "    .dataframe tbody tr th:only-of-type {\n",
              "        vertical-align: middle;\n",
              "    }\n",
              "\n",
              "    .dataframe tbody tr th {\n",
              "        vertical-align: top;\n",
              "    }\n",
              "\n",
              "    .dataframe thead th {\n",
              "        text-align: right;\n",
              "    }\n",
              "</style>\n",
              "<table border=\"1\" class=\"dataframe\">\n",
              "  <thead>\n",
              "    <tr style=\"text-align: right;\">\n",
              "      <th></th>\n",
              "      <th>RowNumber</th>\n",
              "      <th>CustomerId</th>\n",
              "      <th>Surname</th>\n",
              "      <th>CreditScore</th>\n",
              "      <th>Geography</th>\n",
              "      <th>Gender</th>\n",
              "      <th>Age</th>\n",
              "      <th>Tenure</th>\n",
              "      <th>Balance</th>\n",
              "      <th>NumOfProducts</th>\n",
              "      <th>HasCrCard</th>\n",
              "      <th>IsActiveMember</th>\n",
              "      <th>EstimatedSalary</th>\n",
              "      <th>Exited</th>\n",
              "    </tr>\n",
              "  </thead>\n",
              "  <tbody>\n",
              "    <tr>\n",
              "      <th>9995</th>\n",
              "      <td>9996</td>\n",
              "      <td>15606229</td>\n",
              "      <td>Obijiaku</td>\n",
              "      <td>771</td>\n",
              "      <td>France</td>\n",
              "      <td>Male</td>\n",
              "      <td>39</td>\n",
              "      <td>5</td>\n",
              "      <td>0.00</td>\n",
              "      <td>2</td>\n",
              "      <td>1</td>\n",
              "      <td>0</td>\n",
              "      <td>96270.64</td>\n",
              "      <td>0</td>\n",
              "    </tr>\n",
              "    <tr>\n",
              "      <th>9996</th>\n",
              "      <td>9997</td>\n",
              "      <td>15569892</td>\n",
              "      <td>Johnstone</td>\n",
              "      <td>516</td>\n",
              "      <td>France</td>\n",
              "      <td>Male</td>\n",
              "      <td>35</td>\n",
              "      <td>10</td>\n",
              "      <td>57369.61</td>\n",
              "      <td>1</td>\n",
              "      <td>1</td>\n",
              "      <td>1</td>\n",
              "      <td>101699.77</td>\n",
              "      <td>0</td>\n",
              "    </tr>\n",
              "    <tr>\n",
              "      <th>9997</th>\n",
              "      <td>9998</td>\n",
              "      <td>15584532</td>\n",
              "      <td>Liu</td>\n",
              "      <td>709</td>\n",
              "      <td>France</td>\n",
              "      <td>Female</td>\n",
              "      <td>36</td>\n",
              "      <td>7</td>\n",
              "      <td>0.00</td>\n",
              "      <td>1</td>\n",
              "      <td>0</td>\n",
              "      <td>1</td>\n",
              "      <td>42085.58</td>\n",
              "      <td>1</td>\n",
              "    </tr>\n",
              "    <tr>\n",
              "      <th>9998</th>\n",
              "      <td>9999</td>\n",
              "      <td>15682355</td>\n",
              "      <td>Sabbatini</td>\n",
              "      <td>772</td>\n",
              "      <td>Germany</td>\n",
              "      <td>Male</td>\n",
              "      <td>42</td>\n",
              "      <td>3</td>\n",
              "      <td>75075.31</td>\n",
              "      <td>2</td>\n",
              "      <td>1</td>\n",
              "      <td>0</td>\n",
              "      <td>92888.52</td>\n",
              "      <td>1</td>\n",
              "    </tr>\n",
              "    <tr>\n",
              "      <th>9999</th>\n",
              "      <td>10000</td>\n",
              "      <td>15628319</td>\n",
              "      <td>Walker</td>\n",
              "      <td>792</td>\n",
              "      <td>France</td>\n",
              "      <td>Female</td>\n",
              "      <td>28</td>\n",
              "      <td>4</td>\n",
              "      <td>130142.79</td>\n",
              "      <td>1</td>\n",
              "      <td>1</td>\n",
              "      <td>0</td>\n",
              "      <td>38190.78</td>\n",
              "      <td>0</td>\n",
              "    </tr>\n",
              "  </tbody>\n",
              "</table>\n",
              "</div>\n",
              "      <button class=\"colab-df-convert\" onclick=\"convertToInteractive('df-5c8d7df0-af9b-4e81-ba9a-0a287d22cf2f')\"\n",
              "              title=\"Convert this dataframe to an interactive table.\"\n",
              "              style=\"display:none;\">\n",
              "        \n",
              "  <svg xmlns=\"http://www.w3.org/2000/svg\" height=\"24px\"viewBox=\"0 0 24 24\"\n",
              "       width=\"24px\">\n",
              "    <path d=\"M0 0h24v24H0V0z\" fill=\"none\"/>\n",
              "    <path d=\"M18.56 5.44l.94 2.06.94-2.06 2.06-.94-2.06-.94-.94-2.06-.94 2.06-2.06.94zm-11 1L8.5 8.5l.94-2.06 2.06-.94-2.06-.94L8.5 2.5l-.94 2.06-2.06.94zm10 10l.94 2.06.94-2.06 2.06-.94-2.06-.94-.94-2.06-.94 2.06-2.06.94z\"/><path d=\"M17.41 7.96l-1.37-1.37c-.4-.4-.92-.59-1.43-.59-.52 0-1.04.2-1.43.59L10.3 9.45l-7.72 7.72c-.78.78-.78 2.05 0 2.83L4 21.41c.39.39.9.59 1.41.59.51 0 1.02-.2 1.41-.59l7.78-7.78 2.81-2.81c.8-.78.8-2.07 0-2.86zM5.41 20L4 18.59l7.72-7.72 1.47 1.35L5.41 20z\"/>\n",
              "  </svg>\n",
              "      </button>\n",
              "      \n",
              "  <style>\n",
              "    .colab-df-container {\n",
              "      display:flex;\n",
              "      flex-wrap:wrap;\n",
              "      gap: 12px;\n",
              "    }\n",
              "\n",
              "    .colab-df-convert {\n",
              "      background-color: #E8F0FE;\n",
              "      border: none;\n",
              "      border-radius: 50%;\n",
              "      cursor: pointer;\n",
              "      display: none;\n",
              "      fill: #1967D2;\n",
              "      height: 32px;\n",
              "      padding: 0 0 0 0;\n",
              "      width: 32px;\n",
              "    }\n",
              "\n",
              "    .colab-df-convert:hover {\n",
              "      background-color: #E2EBFA;\n",
              "      box-shadow: 0px 1px 2px rgba(60, 64, 67, 0.3), 0px 1px 3px 1px rgba(60, 64, 67, 0.15);\n",
              "      fill: #174EA6;\n",
              "    }\n",
              "\n",
              "    [theme=dark] .colab-df-convert {\n",
              "      background-color: #3B4455;\n",
              "      fill: #D2E3FC;\n",
              "    }\n",
              "\n",
              "    [theme=dark] .colab-df-convert:hover {\n",
              "      background-color: #434B5C;\n",
              "      box-shadow: 0px 1px 3px 1px rgba(0, 0, 0, 0.15);\n",
              "      filter: drop-shadow(0px 1px 2px rgba(0, 0, 0, 0.3));\n",
              "      fill: #FFFFFF;\n",
              "    }\n",
              "  </style>\n",
              "\n",
              "      <script>\n",
              "        const buttonEl =\n",
              "          document.querySelector('#df-5c8d7df0-af9b-4e81-ba9a-0a287d22cf2f button.colab-df-convert');\n",
              "        buttonEl.style.display =\n",
              "          google.colab.kernel.accessAllowed ? 'block' : 'none';\n",
              "\n",
              "        async function convertToInteractive(key) {\n",
              "          const element = document.querySelector('#df-5c8d7df0-af9b-4e81-ba9a-0a287d22cf2f');\n",
              "          const dataTable =\n",
              "            await google.colab.kernel.invokeFunction('convertToInteractive',\n",
              "                                                     [key], {});\n",
              "          if (!dataTable) return;\n",
              "\n",
              "          const docLinkHtml = 'Like what you see? Visit the ' +\n",
              "            '<a target=\"_blank\" href=https://colab.research.google.com/notebooks/data_table.ipynb>data table notebook</a>'\n",
              "            + ' to learn more about interactive tables.';\n",
              "          element.innerHTML = '';\n",
              "          dataTable['output_type'] = 'display_data';\n",
              "          await google.colab.output.renderOutput(dataTable, element);\n",
              "          const docLink = document.createElement('div');\n",
              "          docLink.innerHTML = docLinkHtml;\n",
              "          element.appendChild(docLink);\n",
              "        }\n",
              "      </script>\n",
              "    </div>\n",
              "  </div>\n",
              "  "
            ],
            "text/plain": [
              "      RowNumber  CustomerId    Surname  ...  IsActiveMember EstimatedSalary Exited\n",
              "9995       9996    15606229   Obijiaku  ...               0        96270.64      0\n",
              "9996       9997    15569892  Johnstone  ...               1       101699.77      0\n",
              "9997       9998    15584532        Liu  ...               1        42085.58      1\n",
              "9998       9999    15682355  Sabbatini  ...               0        92888.52      1\n",
              "9999      10000    15628319     Walker  ...               0        38190.78      0\n",
              "\n",
              "[5 rows x 14 columns]"
            ]
          },
          "metadata": {},
          "execution_count": 9
        }
      ]
    },
    {
      "cell_type": "code",
      "metadata": {
        "id": "4-vi2gc2Ml-x"
      },
      "source": [
        "# Importing essential libraries for visualizations\n",
        "import matplotlib.pyplot as plt\n",
        "import seaborn as sns\n",
        "%matplotlib inline"
      ],
      "execution_count": null,
      "outputs": []
    },
    {
      "cell_type": "code",
      "metadata": {
        "id": "vtDebZ5FMyZQ",
        "colab": {
          "base_uri": "https://localhost:8080/",
          "height": 513
        },
        "outputId": "65e24da7-e1fd-4d5f-f227-d653bbb5ee6c"
      },
      "source": [
        "# Visualizing the count of 'exited customers' in the dataset\n",
        "plt.figure(figsize=(8,8))\n",
        "sns.countplot(x='Exited', data=df)\n",
        "plt.xlabel('0: Customers still with the bank, 1: Customers exited the bank')\n",
        "plt.ylabel('Count')\n",
        "plt.title('Bank Customers Churn Visualization')\n",
        "plt.show()"
      ],
      "execution_count": null,
      "outputs": [
        {
          "output_type": "display_data",
          "data": {
            "image/png": "[encoded data removed]",
            "text/plain": [
              "<Figure size 576x576 with 1 Axes>"
            ]
          },
          "metadata": {
            "needs_background": "light"
          }
        }
      ]
    },
    {
      "cell_type": "code",
      "metadata": {
        "id": "a0yxDekMNaic",
        "colab": {
          "base_uri": "https://localhost:8080/"
        },
        "outputId": "6a979a92-d679-4e03-d138-225217c3e0da"
      },
      "source": [
        "df.isna().any()"
      ],
      "execution_count": null,
      "outputs": [
        {
          "output_type": "execute_result",
          "data": {
            "text/plain": [
              "RowNumber          False\n",
              "CustomerId         False\n",
              "Surname            False\n",
              "CreditScore        False\n",
              "Geography          False\n",
              "Gender             False\n",
              "Age                False\n",
              "Tenure             False\n",
              "Balance            False\n",
              "NumOfProducts      False\n",
              "HasCrCard          False\n",
              "IsActiveMember     False\n",
              "EstimatedSalary    False\n",
              "Exited             False\n",
              "dtype: bool"
            ]
          },
          "metadata": {},
          "execution_count": 12
        }
      ]
    },
    {
      "cell_type": "code",
      "metadata": {
        "id": "v0oirsE9OlOX",
        "colab": {
          "base_uri": "https://localhost:8080/"
        },
        "outputId": "8c7930e3-4f49-4049-ddc4-ec5c3e78ea38"
      },
      "source": [
        "df.drop(['RowNumber','CustomerId','Surname'], axis=1, inplace=True)\n",
        "df.columns"
      ],
      "execution_count": null,
      "outputs": [
        {
          "output_type": "execute_result",
          "data": {
            "text/plain": [
              "Index(['CreditScore', 'Geography', 'Gender', 'Age', 'Tenure', 'Balance',\n",
              "       'NumOfProducts', 'HasCrCard', 'IsActiveMember', 'EstimatedSalary',\n",
              "       'Exited'],\n",
              "      dtype='object')"
            ]
          },
          "metadata": {},
          "execution_count": 13
        }
      ]
    },
    {
      "cell_type": "markdown",
      "metadata": {
        "id": "ntTXOWIqOUBp"
      },
      "source": [
        "# **Feature Engineering**\n",
        "\n",
        "*Converting categorical features into numerical features using get_dummies()*"
      ]
    },
    {
      "cell_type": "code",
      "metadata": {
        "id": "sNm7RasGN5AY"
      },
      "source": [
        "# Converting 'Geography' and 'Gender' column\n",
        "geography = pd.get_dummies(df['Geography'], drop_first=True)\n",
        "gender = pd.get_dummies(df['Gender'], drop_first=True)"
      ],
      "execution_count": null,
      "outputs": []
    },
    {
      "cell_type": "code",
      "metadata": {
        "id": "dFFfzI6GPZU6",
        "colab": {
          "base_uri": "https://localhost:8080/"
        },
        "outputId": "bdd3f0c2-acd6-4178-c4a8-55059e7fccce"
      },
      "source": [
        "# Appending columns to original dataframe\n",
        "df = pd.concat([df, geography, gender], axis=1)\n",
        "df.columns"
      ],
      "execution_count": null,
      "outputs": [
        {
          "output_type": "execute_result",
          "data": {
            "text/plain": [
              "Index(['CreditScore', 'Geography', 'Gender', 'Age', 'Tenure', 'Balance',\n",
              "       'NumOfProducts', 'HasCrCard', 'IsActiveMember', 'EstimatedSalary',\n",
              "       'Exited', 'Germany', 'Spain', 'Male'],\n",
              "      dtype='object')"
            ]
          },
          "metadata": {},
          "execution_count": 15
        }
      ]
    },
    {
      "cell_type": "code",
      "metadata": {
        "id": "ipWzcjHDSuPK"
      },
      "source": [
        "df.drop(['Geography', 'Gender'], axis=1, inplace=True)"
      ],
      "execution_count": null,
      "outputs": []
    },
    {
      "cell_type": "markdown",
      "metadata": {
        "id": "Wjh7e5WDP3Kp"
      },
      "source": [
        "# **Data Preprocessing**\n",
        "\n",
        "*• Split the dataset into independent features (ie: X) and label (ie: y).*\n",
        "\n",
        "*• Split the dataset further into train and test sets.*\n",
        "\n",
        "*• Apply feature scaling to train and test sets of independent features.*"
      ]
    },
    {
      "cell_type": "code",
      "metadata": {
        "id": "00u9Ikg7Pmvp"
      },
      "source": [
        "X = df.drop('Exited', axis=1)\n",
        "y = df['Exited']"
      ],
      "execution_count": null,
      "outputs": []
    },
    {
      "cell_type": "code",
      "metadata": {
        "id": "nH92-yJLQzsR",
        "colab": {
          "base_uri": "https://localhost:8080/"
        },
        "outputId": "a976a3a5-f727-4193-c566-a2b849d04201"
      },
      "source": [
        "# Splitting the dataset into train and test sets.\n",
        "from sklearn.model_selection import train_test_split\n",
        "X_train, X_test, y_train, y_test = train_test_split(X, y, test_size=0.20, random_state=0)\n",
        "print('X_train size: {}, X_test size: {}'.format(X_train.shape, X_test.shape))"
      ],
      "execution_count": null,
      "outputs": [
        {
          "output_type": "stream",
          "name": "stdout",
          "text": [
            "X_train size: (8000, 11), X_test size: (2000, 11)\n"
          ]
        }
      ]
    },
    {
      "cell_type": "code",
      "metadata": {
        "id": "-6V7kO8bRL8Z"
      },
      "source": [
        "# Feature Scaling\n",
        "from sklearn.preprocessing import StandardScaler\n",
        "sc = StandardScaler()\n",
        "X_train = sc.fit_transform(X_train)\n",
        "X_test = sc.transform(X_test)"
      ],
      "execution_count": null,
      "outputs": []
    },
    {
      "cell_type": "markdown",
      "metadata": {
        "id": "DipuYlTfTPlQ"
      },
      "source": [
        "# **Building Artificial Neural Network (ANN)**"
      ]
    },
    {
      "cell_type": "code",
      "metadata": {
        "id": "blggsEuvSpsx"
      },
      "source": [
        "# Importing the Keras libraries and packages\n",
        "import keras\n",
        "from keras.models import Sequential\n",
        "from keras.layers import Dense"
      ],
      "execution_count": null,
      "outputs": []
    },
    {
      "cell_type": "code",
      "metadata": {
        "id": "JJLU_q9STmnX"
      },
      "source": [
        "# Initialising the ANN\n",
        "classifier = Sequential()"
      ],
      "execution_count": null,
      "outputs": []
    },
    {
      "cell_type": "code",
      "metadata": {
        "id": "rbomJoOQTq_p"
      },
      "source": [
        "# Adding the input layer and the first hidden layer\n",
        "classifier.add(Dense(units=6, kernel_initializer='he_uniform', activation='relu', input_dim=11))"
      ],
      "execution_count": null,
      "outputs": []
    },
    {
      "cell_type": "code",
      "metadata": {
        "id": "u6DzHseSU9uw"
      },
      "source": [
        "# Adding the second hidden layer\n",
        "classifier.add(Dense(units=6, kernel_initializer='he_uniform', activation='relu'))"
      ],
      "execution_count": null,
      "outputs": []
    },
    {
      "cell_type": "code",
      "metadata": {
        "id": "CbpD-9obVj1Z"
      },
      "source": [
        "# Adding the output layer\n",
        "classifier.add(Dense(units=1, kernel_initializer='glorot_uniform', activation='sigmoid'))"
      ],
      "execution_count": null,
      "outputs": []
    },
    {
      "cell_type": "code",
      "metadata": {
        "id": "agT54UANV8AA"
      },
      "source": [
        "# Compiling the ANN\n",
        "classifier.compile(optimizer='adam', loss='binary_crossentropy', metrics=['accuracy'])"
      ],
      "execution_count": null,
      "outputs": []
    },
    {
      "cell_type": "code",
      "metadata": {
        "id": "W9EpZTyLWRMY",
        "colab": {
          "base_uri": "https://localhost:8080/"
        },
        "outputId": "990a393c-5444-4203-abe0-ea5dfcb18032"
      },
      "source": [
        "# Fitting the ANN to the Training set\n",
        "model_history = classifier.fit(X_train, y_train, batch_size=10, validation_split=0.33, epochs=100)"
      ],
      "execution_count": null,
      "outputs": [
        {
          "output_type": "stream",
          "name": "stdout",
          "text": [
            "Epoch 1/100\n",
            "536/536 [==============================] - 5s 6ms/step - loss: 0.5170 - accuracy: 0.7960 - val_loss: 0.4810 - val_accuracy: 0.7952\n",
            "Epoch 2/100\n",
            "536/536 [==============================] - 3s 5ms/step - loss: 0.4594 - accuracy: 0.8015 - val_loss: 0.4534 - val_accuracy: 0.8042\n",
            "Epoch 3/100\n",
            "536/536 [==============================] - 3s 5ms/step - loss: 0.4383 - accuracy: 0.8110 - val_loss: 0.4449 - val_accuracy: 0.8058\n",
            "Epoch 4/100\n",
            "536/536 [==============================] - 3s 5ms/step - loss: 0.4302 - accuracy: 0.8147 - val_loss: 0.4406 - val_accuracy: 0.8095\n",
            "Epoch 5/100\n",
            "536/536 [==============================] - 3s 6ms/step - loss: 0.4255 - accuracy: 0.8171 - val_loss: 0.4365 - val_accuracy: 0.8076\n",
            "Epoch 6/100\n",
            "536/536 [==============================] - 3s 5ms/step - loss: 0.4224 - accuracy: 0.8197 - val_loss: 0.4342 - val_accuracy: 0.8065\n",
            "Epoch 7/100\n",
            "536/536 [==============================] - 3s 5ms/step - loss: 0.4196 - accuracy: 0.8205 - val_loss: 0.4315 - val_accuracy: 0.8065\n",
            "Epoch 8/100\n",
            "536/536 [==============================] - 3s 5ms/step - loss: 0.4172 - accuracy: 0.8205 - val_loss: 0.4301 - val_accuracy: 0.8065\n",
            "Epoch 9/100\n",
            "536/536 [==============================] - 3s 5ms/step - loss: 0.4152 - accuracy: 0.8218 - val_loss: 0.4289 - val_accuracy: 0.8107\n",
            "Epoch 10/100\n",
            "536/536 [==============================] - 3s 5ms/step - loss: 0.4133 - accuracy: 0.8244 - val_loss: 0.4275 - val_accuracy: 0.8111\n",
            "Epoch 11/100\n",
            "536/536 [==============================] - 3s 5ms/step - loss: 0.4119 - accuracy: 0.8261 - val_loss: 0.4260 - val_accuracy: 0.8084\n",
            "Epoch 12/100\n",
            "536/536 [==============================] - 3s 5ms/step - loss: 0.4107 - accuracy: 0.8276 - val_loss: 0.4247 - val_accuracy: 0.8111\n",
            "Epoch 13/100\n",
            "536/536 [==============================] - 3s 5ms/step - loss: 0.4090 - accuracy: 0.8274 - val_loss: 0.4245 - val_accuracy: 0.8095\n",
            "Epoch 14/100\n",
            "536/536 [==============================] - 3s 5ms/step - loss: 0.4081 - accuracy: 0.8285 - val_loss: 0.4240 - val_accuracy: 0.8126\n",
            "Epoch 15/100\n",
            "536/536 [==============================] - 3s 6ms/step - loss: 0.4071 - accuracy: 0.8287 - val_loss: 0.4228 - val_accuracy: 0.8175\n",
            "Epoch 16/100\n",
            "536/536 [==============================] - 3s 5ms/step - loss: 0.4061 - accuracy: 0.8294 - val_loss: 0.4218 - val_accuracy: 0.8186\n",
            "Epoch 17/100\n",
            "536/536 [==============================] - 3s 5ms/step - loss: 0.4052 - accuracy: 0.8291 - val_loss: 0.4216 - val_accuracy: 0.8164\n",
            "Epoch 18/100\n",
            "536/536 [==============================] - 3s 5ms/step - loss: 0.4041 - accuracy: 0.8294 - val_loss: 0.4211 - val_accuracy: 0.8186\n",
            "Epoch 19/100\n",
            "536/536 [==============================] - 3s 5ms/step - loss: 0.4036 - accuracy: 0.8296 - val_loss: 0.4199 - val_accuracy: 0.8183\n",
            "Epoch 20/100\n",
            "536/536 [==============================] - 3s 5ms/step - loss: 0.4027 - accuracy: 0.8326 - val_loss: 0.4198 - val_accuracy: 0.8167\n",
            "Epoch 21/100\n",
            "536/536 [==============================] - 3s 5ms/step - loss: 0.4023 - accuracy: 0.8322 - val_loss: 0.4189 - val_accuracy: 0.8194\n",
            "Epoch 22/100\n",
            "536/536 [==============================] - 3s 5ms/step - loss: 0.4013 - accuracy: 0.8309 - val_loss: 0.4177 - val_accuracy: 0.8201\n",
            "Epoch 23/100\n",
            "536/536 [==============================] - 3s 5ms/step - loss: 0.4007 - accuracy: 0.8326 - val_loss: 0.4169 - val_accuracy: 0.8205\n",
            "Epoch 24/100\n",
            "536/536 [==============================] - 3s 5ms/step - loss: 0.4004 - accuracy: 0.8309 - val_loss: 0.4161 - val_accuracy: 0.8194\n",
            "Epoch 25/100\n",
            "536/536 [==============================] - 3s 6ms/step - loss: 0.3992 - accuracy: 0.8337 - val_loss: 0.4158 - val_accuracy: 0.8190\n",
            "Epoch 26/100\n",
            "536/536 [==============================] - 3s 6ms/step - loss: 0.3979 - accuracy: 0.8334 - val_loss: 0.4160 - val_accuracy: 0.8133\n",
            "Epoch 27/100\n",
            "536/536 [==============================] - 3s 5ms/step - loss: 0.3974 - accuracy: 0.8332 - val_loss: 0.4137 - val_accuracy: 0.8186\n",
            "Epoch 28/100\n",
            "536/536 [==============================] - 3s 5ms/step - loss: 0.3960 - accuracy: 0.8337 - val_loss: 0.4130 - val_accuracy: 0.8156\n",
            "Epoch 29/100\n",
            "536/536 [==============================] - 3s 5ms/step - loss: 0.3947 - accuracy: 0.8347 - val_loss: 0.4111 - val_accuracy: 0.8194\n",
            "Epoch 30/100\n",
            "536/536 [==============================] - 3s 5ms/step - loss: 0.3935 - accuracy: 0.8347 - val_loss: 0.4100 - val_accuracy: 0.8186\n",
            "Epoch 31/100\n",
            "536/536 [==============================] - 3s 5ms/step - loss: 0.3917 - accuracy: 0.8321 - val_loss: 0.4082 - val_accuracy: 0.8186\n",
            "Epoch 32/100\n",
            "536/536 [==============================] - 3s 5ms/step - loss: 0.3902 - accuracy: 0.8341 - val_loss: 0.4062 - val_accuracy: 0.8194\n",
            "Epoch 33/100\n",
            "536/536 [==============================] - 3s 5ms/step - loss: 0.3882 - accuracy: 0.8356 - val_loss: 0.4062 - val_accuracy: 0.8224\n",
            "Epoch 34/100\n",
            "536/536 [==============================] - 3s 5ms/step - loss: 0.3869 - accuracy: 0.8350 - val_loss: 0.4060 - val_accuracy: 0.8183\n",
            "Epoch 35/100\n",
            "536/536 [==============================] - 3s 5ms/step - loss: 0.3851 - accuracy: 0.8354 - val_loss: 0.4020 - val_accuracy: 0.8183\n",
            "Epoch 36/100\n",
            "536/536 [==============================] - 3s 5ms/step - loss: 0.3832 - accuracy: 0.8373 - val_loss: 0.4005 - val_accuracy: 0.8201\n",
            "Epoch 37/100\n",
            "536/536 [==============================] - 3s 5ms/step - loss: 0.3811 - accuracy: 0.8378 - val_loss: 0.3986 - val_accuracy: 0.8205\n",
            "Epoch 38/100\n",
            "536/536 [==============================] - 3s 5ms/step - loss: 0.3786 - accuracy: 0.8371 - val_loss: 0.3974 - val_accuracy: 0.8224\n",
            "Epoch 39/100\n",
            "536/536 [==============================] - 3s 5ms/step - loss: 0.3762 - accuracy: 0.8390 - val_loss: 0.3939 - val_accuracy: 0.8232\n",
            "Epoch 40/100\n",
            "536/536 [==============================] - 3s 5ms/step - loss: 0.3724 - accuracy: 0.8414 - val_loss: 0.3890 - val_accuracy: 0.8289\n",
            "Epoch 41/100\n",
            "536/536 [==============================] - 3s 5ms/step - loss: 0.3673 - accuracy: 0.8468 - val_loss: 0.3845 - val_accuracy: 0.8326\n",
            "Epoch 42/100\n",
            "536/536 [==============================] - 3s 5ms/step - loss: 0.3613 - accuracy: 0.8496 - val_loss: 0.3774 - val_accuracy: 0.8379\n",
            "Epoch 43/100\n",
            "536/536 [==============================] - 3s 5ms/step - loss: 0.3564 - accuracy: 0.8522 - val_loss: 0.3726 - val_accuracy: 0.8425\n",
            "Epoch 44/100\n",
            "536/536 [==============================] - 3s 5ms/step - loss: 0.3510 - accuracy: 0.8541 - val_loss: 0.3697 - val_accuracy: 0.8429\n",
            "Epoch 45/100\n",
            "536/536 [==============================] - 3s 5ms/step - loss: 0.3475 - accuracy: 0.8550 - val_loss: 0.3665 - val_accuracy: 0.8474\n",
            "Epoch 46/100\n",
            "536/536 [==============================] - 3s 5ms/step - loss: 0.3450 - accuracy: 0.8572 - val_loss: 0.3643 - val_accuracy: 0.8482\n",
            "Epoch 47/100\n",
            "536/536 [==============================] - 3s 5ms/step - loss: 0.3427 - accuracy: 0.8595 - val_loss: 0.3627 - val_accuracy: 0.8478\n",
            "Epoch 48/100\n",
            "536/536 [==============================] - 3s 5ms/step - loss: 0.3407 - accuracy: 0.8619 - val_loss: 0.3646 - val_accuracy: 0.8459\n",
            "Epoch 49/100\n",
            "536/536 [==============================] - 3s 5ms/step - loss: 0.3401 - accuracy: 0.8608 - val_loss: 0.3635 - val_accuracy: 0.8466\n",
            "Epoch 50/100\n",
            "536/536 [==============================] - 3s 5ms/step - loss: 0.3391 - accuracy: 0.8604 - val_loss: 0.3621 - val_accuracy: 0.8482\n",
            "Epoch 51/100\n",
            "536/536 [==============================] - 3s 5ms/step - loss: 0.3386 - accuracy: 0.8602 - val_loss: 0.3611 - val_accuracy: 0.8497\n",
            "Epoch 52/100\n",
            "536/536 [==============================] - 3s 5ms/step - loss: 0.3377 - accuracy: 0.8619 - val_loss: 0.3601 - val_accuracy: 0.8519\n",
            "Epoch 53/100\n",
            "536/536 [==============================] - 3s 5ms/step - loss: 0.3370 - accuracy: 0.8636 - val_loss: 0.3623 - val_accuracy: 0.8482\n",
            "Epoch 54/100\n",
            "536/536 [==============================] - 3s 5ms/step - loss: 0.3364 - accuracy: 0.8636 - val_loss: 0.3611 - val_accuracy: 0.8516\n",
            "Epoch 55/100\n",
            "536/536 [==============================] - 3s 5ms/step - loss: 0.3366 - accuracy: 0.8653 - val_loss: 0.3610 - val_accuracy: 0.8512\n",
            "Epoch 56/100\n",
            "536/536 [==============================] - 3s 5ms/step - loss: 0.3361 - accuracy: 0.8627 - val_loss: 0.3594 - val_accuracy: 0.8531\n",
            "Epoch 57/100\n",
            "536/536 [==============================] - 3s 5ms/step - loss: 0.3358 - accuracy: 0.8653 - val_loss: 0.3597 - val_accuracy: 0.8504\n",
            "Epoch 58/100\n",
            "536/536 [==============================] - 3s 5ms/step - loss: 0.3351 - accuracy: 0.8655 - val_loss: 0.3595 - val_accuracy: 0.8519\n",
            "Epoch 59/100\n",
            "536/536 [==============================] - 3s 5ms/step - loss: 0.3351 - accuracy: 0.8640 - val_loss: 0.3590 - val_accuracy: 0.8531\n",
            "Epoch 60/100\n",
            "536/536 [==============================] - 3s 5ms/step - loss: 0.3349 - accuracy: 0.8645 - val_loss: 0.3578 - val_accuracy: 0.8523\n",
            "Epoch 61/100\n",
            "536/536 [==============================] - 3s 5ms/step - loss: 0.3345 - accuracy: 0.8642 - val_loss: 0.3594 - val_accuracy: 0.8519\n",
            "Epoch 62/100\n",
            "536/536 [==============================] - 3s 5ms/step - loss: 0.3348 - accuracy: 0.8634 - val_loss: 0.3581 - val_accuracy: 0.8538\n",
            "Epoch 63/100\n",
            "536/536 [==============================] - 3s 5ms/step - loss: 0.3344 - accuracy: 0.8638 - val_loss: 0.3576 - val_accuracy: 0.8546\n",
            "Epoch 64/100\n",
            "536/536 [==============================] - 3s 5ms/step - loss: 0.3340 - accuracy: 0.8649 - val_loss: 0.3573 - val_accuracy: 0.8550\n",
            "Epoch 65/100\n",
            "536/536 [==============================] - 3s 5ms/step - loss: 0.3333 - accuracy: 0.8640 - val_loss: 0.3574 - val_accuracy: 0.8531\n",
            "Epoch 66/100\n",
            "536/536 [==============================] - 3s 5ms/step - loss: 0.3335 - accuracy: 0.8632 - val_loss: 0.3586 - val_accuracy: 0.8504\n",
            "Epoch 67/100\n",
            "536/536 [==============================] - 3s 5ms/step - loss: 0.3335 - accuracy: 0.8662 - val_loss: 0.3567 - val_accuracy: 0.8531\n",
            "Epoch 68/100\n",
            "536/536 [==============================] - 3s 5ms/step - loss: 0.3329 - accuracy: 0.8642 - val_loss: 0.3570 - val_accuracy: 0.8538\n",
            "Epoch 69/100\n",
            "536/536 [==============================] - 3s 5ms/step - loss: 0.3332 - accuracy: 0.8660 - val_loss: 0.3589 - val_accuracy: 0.8516\n",
            "Epoch 70/100\n",
            "536/536 [==============================] - 3s 5ms/step - loss: 0.3335 - accuracy: 0.8642 - val_loss: 0.3582 - val_accuracy: 0.8508\n",
            "Epoch 71/100\n",
            "536/536 [==============================] - 3s 5ms/step - loss: 0.3333 - accuracy: 0.8627 - val_loss: 0.3572 - val_accuracy: 0.8519\n",
            "Epoch 72/100\n",
            "536/536 [==============================] - 3s 5ms/step - loss: 0.3332 - accuracy: 0.8628 - val_loss: 0.3572 - val_accuracy: 0.8535\n",
            "Epoch 73/100\n",
            "536/536 [==============================] - 3s 5ms/step - loss: 0.3329 - accuracy: 0.8636 - val_loss: 0.3560 - val_accuracy: 0.8535\n",
            "Epoch 74/100\n",
            "536/536 [==============================] - 3s 5ms/step - loss: 0.3330 - accuracy: 0.8638 - val_loss: 0.3557 - val_accuracy: 0.8542\n",
            "Epoch 75/100\n",
            "536/536 [==============================] - 3s 5ms/step - loss: 0.3329 - accuracy: 0.8636 - val_loss: 0.3562 - val_accuracy: 0.8519\n",
            "Epoch 76/100\n",
            "536/536 [==============================] - 3s 5ms/step - loss: 0.3324 - accuracy: 0.8634 - val_loss: 0.3569 - val_accuracy: 0.8519\n",
            "Epoch 77/100\n",
            "536/536 [==============================] - 3s 5ms/step - loss: 0.3326 - accuracy: 0.8643 - val_loss: 0.3560 - val_accuracy: 0.8538\n",
            "Epoch 78/100\n",
            "536/536 [==============================] - 3s 5ms/step - loss: 0.3325 - accuracy: 0.8638 - val_loss: 0.3562 - val_accuracy: 0.8531\n",
            "Epoch 79/100\n",
            "536/536 [==============================] - 3s 5ms/step - loss: 0.3323 - accuracy: 0.8638 - val_loss: 0.3573 - val_accuracy: 0.8531\n",
            "Epoch 80/100\n",
            "536/536 [==============================] - 3s 5ms/step - loss: 0.3326 - accuracy: 0.8636 - val_loss: 0.3563 - val_accuracy: 0.8535\n",
            "Epoch 81/100\n",
            "536/536 [==============================] - 3s 5ms/step - loss: 0.3325 - accuracy: 0.8640 - val_loss: 0.3556 - val_accuracy: 0.8561\n",
            "Epoch 82/100\n",
            "536/536 [==============================] - 3s 5ms/step - loss: 0.3317 - accuracy: 0.8642 - val_loss: 0.3565 - val_accuracy: 0.8535\n",
            "Epoch 83/100\n",
            "536/536 [==============================] - 3s 5ms/step - loss: 0.3320 - accuracy: 0.8653 - val_loss: 0.3567 - val_accuracy: 0.8535\n",
            "Epoch 84/100\n",
            "536/536 [==============================] - 3s 5ms/step - loss: 0.3318 - accuracy: 0.8649 - val_loss: 0.3564 - val_accuracy: 0.8561\n",
            "Epoch 85/100\n",
            "536/536 [==============================] - 3s 5ms/step - loss: 0.3325 - accuracy: 0.8634 - val_loss: 0.3560 - val_accuracy: 0.8519\n",
            "Epoch 86/100\n",
            "536/536 [==============================] - 3s 5ms/step - loss: 0.3319 - accuracy: 0.8642 - val_loss: 0.3555 - val_accuracy: 0.8554\n",
            "Epoch 87/100\n",
            "536/536 [==============================] - 3s 5ms/step - loss: 0.3321 - accuracy: 0.8647 - val_loss: 0.3564 - val_accuracy: 0.8523\n",
            "Epoch 88/100\n",
            "536/536 [==============================] - 3s 5ms/step - loss: 0.3320 - accuracy: 0.8645 - val_loss: 0.3566 - val_accuracy: 0.8538\n",
            "Epoch 89/100\n",
            "536/536 [==============================] - 3s 5ms/step - loss: 0.3319 - accuracy: 0.8628 - val_loss: 0.3561 - val_accuracy: 0.8523\n",
            "Epoch 90/100\n",
            "536/536 [==============================] - 3s 5ms/step - loss: 0.3316 - accuracy: 0.8666 - val_loss: 0.3573 - val_accuracy: 0.8504\n",
            "Epoch 91/100\n",
            "536/536 [==============================] - 3s 5ms/step - loss: 0.3317 - accuracy: 0.8651 - val_loss: 0.3555 - val_accuracy: 0.8535\n",
            "Epoch 92/100\n",
            "536/536 [==============================] - 3s 5ms/step - loss: 0.3316 - accuracy: 0.8638 - val_loss: 0.3547 - val_accuracy: 0.8550\n",
            "Epoch 93/100\n",
            "536/536 [==============================] - 3s 5ms/step - loss: 0.3315 - accuracy: 0.8628 - val_loss: 0.3546 - val_accuracy: 0.8542\n",
            "Epoch 94/100\n",
            "536/536 [==============================] - 3s 5ms/step - loss: 0.3319 - accuracy: 0.8614 - val_loss: 0.3554 - val_accuracy: 0.8538\n",
            "Epoch 95/100\n",
            "536/536 [==============================] - 3s 5ms/step - loss: 0.3316 - accuracy: 0.8634 - val_loss: 0.3562 - val_accuracy: 0.8527\n",
            "Epoch 96/100\n",
            "536/536 [==============================] - 3s 5ms/step - loss: 0.3317 - accuracy: 0.8647 - val_loss: 0.3554 - val_accuracy: 0.8535\n",
            "Epoch 97/100\n",
            "536/536 [==============================] - 3s 5ms/step - loss: 0.3314 - accuracy: 0.8642 - val_loss: 0.3559 - val_accuracy: 0.8519\n",
            "Epoch 98/100\n",
            "536/536 [==============================] - 3s 5ms/step - loss: 0.3314 - accuracy: 0.8647 - val_loss: 0.3558 - val_accuracy: 0.8542\n",
            "Epoch 99/100\n",
            "536/536 [==============================] - 3s 5ms/step - loss: 0.3317 - accuracy: 0.8642 - val_loss: 0.3567 - val_accuracy: 0.8523\n",
            "Epoch 100/100\n",
            "536/536 [==============================] - 3s 5ms/step - loss: 0.3317 - accuracy: 0.8645 - val_loss: 0.3568 - val_accuracy: 0.8527\n"
          ]
        }
      ]
    },
    {
      "cell_type": "code",
      "metadata": {
        "id": "CrSgI4GpWXFp",
        "colab": {
          "base_uri": "https://localhost:8080/"
        },
        "outputId": "5bfd8bc2-0c18-4f0d-9a60-6b3a582fe0d9"
      },
      "source": [
        "# List all data in history\n",
        "model_history.history.keys()"
      ],
      "execution_count": null,
      "outputs": [
        {
          "output_type": "execute_result",
          "data": {
            "text/plain": [
              "dict_keys(['loss', 'accuracy', 'val_loss', 'val_accuracy'])"
            ]
          },
          "metadata": {},
          "execution_count": 27
        }
      ]
    },
    {
      "cell_type": "code",
      "metadata": {
        "id": "6rtH_7O4dLl0",
        "colab": {
          "base_uri": "https://localhost:8080/",
          "height": 513
        },
        "outputId": "74d974e2-b77b-4f4f-b73d-a4295c46103f"
      },
      "source": [
        "# Summarize history for accuracy\n",
        "plt.figure(figsize=(8,8))\n",
        "plt.plot(model_history.history['accuracy'])\n",
        "plt.plot(model_history.history['val_accuracy'])\n",
        "plt.title('Model Accuracy')\n",
        "plt.ylabel('Accuracy')\n",
        "plt.xlabel('Epoch')\n",
        "plt.legend(['Train', 'Test'], loc='lower right')\n",
        "plt.show()"
      ],
      "execution_count": null,
      "outputs": [
        {
          "output_type": "display_data",
          "data": {
            "image/png": "[encoded data removed]",
            "text/plain": [
              "<Figure size 576x576 with 1 Axes>"
            ]
          },
          "metadata": {
            "needs_background": "light"
          }
        }
      ]
    },
    {
      "cell_type": "code",
      "metadata": {
        "id": "725kLNbvdk2h",
        "colab": {
          "base_uri": "https://localhost:8080/",
          "height": 513
        },
        "outputId": "af0be1e4-b75f-4ff5-aba4-1fbe09224ccb"
      },
      "source": [
        "# Summarize history for loss\n",
        "plt.figure(figsize=(8,8))\n",
        "plt.plot(model_history.history['loss'])\n",
        "plt.plot(model_history.history['val_loss'])\n",
        "plt.title('Model Loss')\n",
        "plt.ylabel('Loss')\n",
        "plt.xlabel('Epoch')\n",
        "plt.legend(['Train', 'Test'], loc='upper right')\n",
        "plt.show()"
      ],
      "execution_count": null,
      "outputs": [
        {
          "output_type": "display_data",
          "data": {
            "image/png": "[encoded data removed]",
            "text/plain": [
              "<Figure size 576x576 with 1 Axes>"
            ]
          },
          "metadata": {
            "needs_background": "light"
          }
        }
      ]
    },
    {
      "cell_type": "markdown",
      "metadata": {
        "id": "hteoIjo-ebvS"
      },
      "source": [
        "# **Model Evaluation**"
      ]
    },
    {
      "cell_type": "code",
      "metadata": {
        "id": "K1P-3Hy3efDi"
      },
      "source": [
        "# Predicting the Test set results\n",
        "y_pred = classifier.predict(X_test)"
      ],
      "execution_count": null,
      "outputs": []
    },
    {
      "cell_type": "code",
      "metadata": {
        "id": "n3SMzTNYeK_f",
        "colab": {
          "base_uri": "https://localhost:8080/"
        },
        "outputId": "4bab119d-6aa8-41d9-e848-ff67a86ee185"
      },
      "source": [
        "y_pred"
      ],
      "execution_count": null,
      "outputs": [
        {
          "output_type": "execute_result",
          "data": {
            "text/plain": [
              "array([[0.38298598],\n",
              "       [0.34363002],\n",
              "       [0.20103969],\n",
              "       ...,\n",
              "       [0.22698641],\n",
              "       [0.21172528],\n",
              "       [0.2388088 ]], dtype=float32)"
            ]
          },
          "metadata": {},
          "execution_count": 31
        }
      ]
    },
    {
      "cell_type": "code",
      "metadata": {
        "id": "5xdSt7h-ez2a",
        "colab": {
          "base_uri": "https://localhost:8080/"
        },
        "outputId": "ce979f06-3209-4dab-c018-ffb9b60b7409"
      },
      "source": [
        "y_pred = (y_pred > 0.5)\n",
        "y_pred"
      ],
      "execution_count": null,
      "outputs": [
        {
          "output_type": "execute_result",
          "data": {
            "text/plain": [
              "array([[False],\n",
              "       [False],\n",
              "       [False],\n",
              "       ...,\n",
              "       [False],\n",
              "       [False],\n",
              "       [False]])"
            ]
          },
          "metadata": {},
          "execution_count": 32
        }
      ]
    },
    {
      "cell_type": "code",
      "metadata": {
        "id": "jF6bqmNpe52h",
        "colab": {
          "base_uri": "https://localhost:8080/"
        },
        "outputId": "2c48ff2e-cac4-4578-96e9-dbeb663d4ee3"
      },
      "source": [
        "# Making the Confusion Matrix\n",
        "from sklearn.metrics import confusion_matrix\n",
        "cm = confusion_matrix(y_test, y_pred)\n",
        "cm"
      ],
      "execution_count": null,
      "outputs": [
        {
          "output_type": "execute_result",
          "data": {
            "text/plain": [
              "array([[1509,   86],\n",
              "       [ 199,  206]])"
            ]
          },
          "metadata": {},
          "execution_count": 33
        }
      ]
    },
    {
      "cell_type": "code",
      "metadata": {
        "id": "QtXiWRklgBfc",
        "colab": {
          "base_uri": "https://localhost:8080/",
          "height": 404
        },
        "outputId": "682e9dfa-be9a-413c-cdbd-5306a721cf62"
      },
      "source": [
        "# Plotting confusion matrix\n",
        "plt.figure(figsize=(8,6))\n",
        "sns.heatmap(cm, cmap='Blues', annot=True, xticklabels=['Did not Exit', 'Exit'], yticklabels=['Did not Exit', 'Exit'])\n",
        "plt.xlabel('Predicted values')\n",
        "plt.ylabel('Actual values')\n",
        "plt.title('Confusion Matrix for ANN model')\n",
        "plt.show()"
      ],
      "execution_count": null,
      "outputs": [
        {
          "output_type": "display_data",
          "data": {
            "image/png": "[encoded data removed]",
            "text/plain": [
              "<Figure size 576x432 with 2 Axes>"
            ]
          },
          "metadata": {
            "needs_background": "light"
          }
        }
      ]
    },
    {
      "cell_type": "code",
      "metadata": {
        "id": "GBP1RzKAhJKc",
        "colab": {
          "base_uri": "https://localhost:8080/"
        },
        "outputId": "ae3588b2-dfa7-4efc-888f-5a221c3566f5"
      },
      "source": [
        "# Calculate the Accuracy\n",
        "from sklearn.metrics import accuracy_score\n",
        "score = accuracy_score(y_pred,y_test)\n",
        "print('The accuracy for ANN model is: {}%'.format(score*100))"
      ],
      "execution_count": null,
      "outputs": [
        {
          "output_type": "stream",
          "name": "stdout",
          "text": [
            "The accuracy for ANN model is: 85.75%\n"
          ]
        }
      ]
    },
    {
      "cell_type": "markdown",
      "metadata": {
        "id": "0sL3FX4rh5SK"
      },
      "source": [
        "# **Predictions**"
      ]
    },
    {
      "cell_type": "code",
      "metadata": {
        "id": "vFxDPYQPh8nW"
      },
      "source": [
        "def predict_exit(sample_value):\n",
        "  \n",
        "  # Convert list to numpy array\n",
        "  sample_value = np.array(sample_value)\n",
        "\n",
        "  # Reshape because sample_value contains only 1 record\n",
        "  sample_value = sample_value.reshape(1, -1)\n",
        "\n",
        "  # Feature Scaling\n",
        "  sample_value = sc.transform(sample_value)\n",
        "\n",
        "  return classifier.predict(sample_value)"
      ],
      "execution_count": null,
      "outputs": []
    },
    {
      "cell_type": "code",
      "metadata": {
        "id": "H60e-K6Vip_h",
        "colab": {
          "base_uri": "https://localhost:8080/"
        },
        "outputId": "19b9142e-71ea-4f27-fb19-50fda4740ef9"
      },
      "source": [
        "# Predictions\n",
        "# Value order 'CreditScore','Age','Tenure','Balance','NumOfProducts','HasCrCard','IsActiveMember','EstimatedSalary','Germany','Spain','Male'.\n",
        "sample_value = [738, 62, 10, 83008.31, 1, 1, 1, 42766.03, 1, 0, 1]\n",
        "if predict_exit(sample_value)>0.5:\n",
        "  print('Prediction: High change of exit!')\n",
        "else:\n",
        "  print('Prediction: Low change of exit.')"
      ],
      "execution_count": null,
      "outputs": [
        {
          "output_type": "stream",
          "name": "stdout",
          "text": [
            "Prediction: Low change of exit.\n"
          ]
        },
        {
          "output_type": "stream",
          "name": "stderr",
          "text": [
            "/usr/local/lib/python3.7/dist-packages/sklearn/base.py:446: UserWarning: X does not have valid feature names, but StandardScaler was fitted with feature names\n",
            "  \"X does not have valid feature names, but\"\n"
          ]
        }
      ]
    },
    {
      "cell_type": "code",
      "metadata": {
        "id": "n3zdnwfWkT0q",
        "colab": {
          "base_uri": "https://localhost:8080/"
        },
        "outputId": "6aa8bfac-1ec5-48b1-84ff-ff3aa5aa59d2"
      },
      "source": [
        "# Predictions\n",
        "# Value order 'CreditScore','Age','Tenure','Balance','NumOfProducts','HasCrCard','IsActiveMember','EstimatedSalary','Germany','Spain','Male'.\n",
        "sample_value = [805, 45, 9, 116585.97, 1, 1, 1, 189428.75, 1, 0, 0]\n",
        "if predict_exit(sample_value)>0.5:\n",
        "  print('Prediction: High change of exit!')\n",
        "else:\n",
        "  print('Prediction: Low change of exit.')"
      ],
      "execution_count": null,
      "outputs": [
        {
          "output_type": "stream",
          "name": "stdout",
          "text": [
            "Prediction: Low change of exit.\n"
          ]
        },
        {
          "output_type": "stream",
          "name": "stderr",
          "text": [
            "/usr/local/lib/python3.7/dist-packages/sklearn/base.py:446: UserWarning: X does not have valid feature names, but StandardScaler was fitted with feature names\n",
            "  \"X does not have valid feature names, but\"\n"
          ]
        }
      ]
    },
    {
      "cell_type": "code",
      "source": [
        "# Predictions\n",
        "# Value order 'CreditScore','Age','Tenure','Balance','NumOfProducts','HasCrCard','IsActiveMember','EstimatedSalary','Germany','Spain','Male'.\n",
        "sample_value = [705, 45, 9, 16585.97, 1, 1, 0, 89428.75, 1, 0, 1]\n",
        "if predict_exit(sample_value)>0.5:\n",
        "  print('Prediction: High change of exit!')\n",
        "else:\n",
        "  print('Prediction: Low change of exit.')"
      ],
      "metadata": {
        "colab": {
          "base_uri": "https://localhost:8080/"
        },
        "id": "nh6Wi95nRMJq",
        "outputId": "a28bfc0c-6b4c-456b-cc10-00bf1202d7d7"
      },
      "execution_count": null,
      "outputs": [
        {
          "output_type": "stream",
          "name": "stdout",
          "text": [
            "Prediction: High change of exit!\n"
          ]
        },
        {
          "output_type": "stream",
          "name": "stderr",
          "text": [
            "/usr/local/lib/python3.7/dist-packages/sklearn/base.py:446: UserWarning: X does not have valid feature names, but StandardScaler was fitted with feature names\n",
            "  \"X does not have valid feature names, but\"\n"
          ]
        }
      ]
    },
    {
      "cell_type": "code",
      "source": [
        ""
      ],
      "metadata": {
        "id": "KpHDuGSoR1cn"
      },
      "execution_count": null,
      "outputs": []
    }
  ]
}